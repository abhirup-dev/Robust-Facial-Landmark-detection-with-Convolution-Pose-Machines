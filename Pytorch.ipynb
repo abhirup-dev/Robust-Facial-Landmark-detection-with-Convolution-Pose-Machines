{
 "cells": [
  {
   "cell_type": "code",
   "execution_count": 4,
   "metadata": {},
   "outputs": [],
   "source": [
    "from __future__ import print_function, division\n",
    "import os\n",
    "import torch\n",
    "import pandas as pd\n",
    "from skimage import io, transform\n",
    "import numpy as np\n",
    "import matplotlib.pyplot as plt\n",
    "from torch.utils.data import Dataset, DataLoader\n",
    "from torchvision import transforms, utils\n",
    "from pathlib import Path"
   ]
  },
  {
   "cell_type": "code",
   "execution_count": 7,
   "metadata": {},
   "outputs": [],
   "source": [
    "path = Path('/home/abhirup/Datasets/faces/')\n",
    "\n",
    "landmarks_file = pd.read_csv(path / 'face_landmarks.csv')"
   ]
  },
  {
   "cell_type": "code",
   "execution_count": 9,
   "metadata": {},
   "outputs": [
    {
     "data": {
      "text/html": [
       "<div>\n",
       "<style scoped>\n",
       "    .dataframe tbody tr th:only-of-type {\n",
       "        vertical-align: middle;\n",
       "    }\n",
       "\n",
       "    .dataframe tbody tr th {\n",
       "        vertical-align: top;\n",
       "    }\n",
       "\n",
       "    .dataframe thead th {\n",
       "        text-align: right;\n",
       "    }\n",
       "</style>\n",
       "<table border=\"1\" class=\"dataframe\">\n",
       "  <thead>\n",
       "    <tr style=\"text-align: right;\">\n",
       "      <th></th>\n",
       "      <th>image_name</th>\n",
       "      <th>part_0_x</th>\n",
       "      <th>part_0_y</th>\n",
       "      <th>part_1_x</th>\n",
       "      <th>part_1_y</th>\n",
       "      <th>part_2_x</th>\n",
       "      <th>part_2_y</th>\n",
       "      <th>part_3_x</th>\n",
       "      <th>part_3_y</th>\n",
       "      <th>part_4_x</th>\n",
       "      <th>...</th>\n",
       "      <th>part_63_x</th>\n",
       "      <th>part_63_y</th>\n",
       "      <th>part_64_x</th>\n",
       "      <th>part_64_y</th>\n",
       "      <th>part_65_x</th>\n",
       "      <th>part_65_y</th>\n",
       "      <th>part_66_x</th>\n",
       "      <th>part_66_y</th>\n",
       "      <th>part_67_x</th>\n",
       "      <th>part_67_y</th>\n",
       "    </tr>\n",
       "  </thead>\n",
       "  <tbody>\n",
       "    <tr>\n",
       "      <th>0</th>\n",
       "      <td>0805personali01.jpg</td>\n",
       "      <td>27</td>\n",
       "      <td>83</td>\n",
       "      <td>27</td>\n",
       "      <td>98</td>\n",
       "      <td>29</td>\n",
       "      <td>113</td>\n",
       "      <td>33</td>\n",
       "      <td>127</td>\n",
       "      <td>39</td>\n",
       "      <td>...</td>\n",
       "      <td>93</td>\n",
       "      <td>136</td>\n",
       "      <td>100</td>\n",
       "      <td>141</td>\n",
       "      <td>93</td>\n",
       "      <td>135</td>\n",
       "      <td>89</td>\n",
       "      <td>135</td>\n",
       "      <td>84</td>\n",
       "      <td>134</td>\n",
       "    </tr>\n",
       "    <tr>\n",
       "      <th>1</th>\n",
       "      <td>1084239450_e76e00b7e7.jpg</td>\n",
       "      <td>70</td>\n",
       "      <td>236</td>\n",
       "      <td>71</td>\n",
       "      <td>257</td>\n",
       "      <td>75</td>\n",
       "      <td>278</td>\n",
       "      <td>82</td>\n",
       "      <td>299</td>\n",
       "      <td>90</td>\n",
       "      <td>...</td>\n",
       "      <td>148</td>\n",
       "      <td>311</td>\n",
       "      <td>179</td>\n",
       "      <td>308</td>\n",
       "      <td>149</td>\n",
       "      <td>312</td>\n",
       "      <td>137</td>\n",
       "      <td>314</td>\n",
       "      <td>128</td>\n",
       "      <td>312</td>\n",
       "    </tr>\n",
       "    <tr>\n",
       "      <th>2</th>\n",
       "      <td>10comm-decarlo.jpg</td>\n",
       "      <td>66</td>\n",
       "      <td>114</td>\n",
       "      <td>65</td>\n",
       "      <td>128</td>\n",
       "      <td>67</td>\n",
       "      <td>142</td>\n",
       "      <td>68</td>\n",
       "      <td>156</td>\n",
       "      <td>72</td>\n",
       "      <td>...</td>\n",
       "      <td>128</td>\n",
       "      <td>162</td>\n",
       "      <td>136</td>\n",
       "      <td>167</td>\n",
       "      <td>127</td>\n",
       "      <td>166</td>\n",
       "      <td>121</td>\n",
       "      <td>165</td>\n",
       "      <td>116</td>\n",
       "      <td>164</td>\n",
       "    </tr>\n",
       "    <tr>\n",
       "      <th>3</th>\n",
       "      <td>110276240_bec305da91.jpg</td>\n",
       "      <td>42</td>\n",
       "      <td>140</td>\n",
       "      <td>45</td>\n",
       "      <td>161</td>\n",
       "      <td>51</td>\n",
       "      <td>180</td>\n",
       "      <td>61</td>\n",
       "      <td>200</td>\n",
       "      <td>73</td>\n",
       "      <td>...</td>\n",
       "      <td>144</td>\n",
       "      <td>197</td>\n",
       "      <td>180</td>\n",
       "      <td>189</td>\n",
       "      <td>147</td>\n",
       "      <td>204</td>\n",
       "      <td>136</td>\n",
       "      <td>208</td>\n",
       "      <td>125</td>\n",
       "      <td>209</td>\n",
       "    </tr>\n",
       "    <tr>\n",
       "      <th>4</th>\n",
       "      <td>1198_0_861.jpg</td>\n",
       "      <td>138</td>\n",
       "      <td>392</td>\n",
       "      <td>141</td>\n",
       "      <td>427</td>\n",
       "      <td>145</td>\n",
       "      <td>464</td>\n",
       "      <td>152</td>\n",
       "      <td>501</td>\n",
       "      <td>166</td>\n",
       "      <td>...</td>\n",
       "      <td>293</td>\n",
       "      <td>507</td>\n",
       "      <td>331</td>\n",
       "      <td>511</td>\n",
       "      <td>294</td>\n",
       "      <td>516</td>\n",
       "      <td>279</td>\n",
       "      <td>518</td>\n",
       "      <td>265</td>\n",
       "      <td>516</td>\n",
       "    </tr>\n",
       "  </tbody>\n",
       "</table>\n",
       "<p>5 rows × 137 columns</p>\n",
       "</div>"
      ],
      "text/plain": [
       "                  image_name  part_0_x  part_0_y  part_1_x  part_1_y  \\\n",
       "0        0805personali01.jpg        27        83        27        98   \n",
       "1  1084239450_e76e00b7e7.jpg        70       236        71       257   \n",
       "2         10comm-decarlo.jpg        66       114        65       128   \n",
       "3   110276240_bec305da91.jpg        42       140        45       161   \n",
       "4             1198_0_861.jpg       138       392       141       427   \n",
       "\n",
       "   part_2_x  part_2_y  part_3_x  part_3_y  part_4_x    ...      part_63_x  \\\n",
       "0        29       113        33       127        39    ...             93   \n",
       "1        75       278        82       299        90    ...            148   \n",
       "2        67       142        68       156        72    ...            128   \n",
       "3        51       180        61       200        73    ...            144   \n",
       "4       145       464       152       501       166    ...            293   \n",
       "\n",
       "   part_63_y  part_64_x  part_64_y  part_65_x  part_65_y  part_66_x  \\\n",
       "0        136        100        141         93        135         89   \n",
       "1        311        179        308        149        312        137   \n",
       "2        162        136        167        127        166        121   \n",
       "3        197        180        189        147        204        136   \n",
       "4        507        331        511        294        516        279   \n",
       "\n",
       "   part_66_y  part_67_x  part_67_y  \n",
       "0        135         84        134  \n",
       "1        314        128        312  \n",
       "2        165        116        164  \n",
       "3        208        125        209  \n",
       "4        518        265        516  \n",
       "\n",
       "[5 rows x 137 columns]"
      ]
     },
     "execution_count": 9,
     "metadata": {},
     "output_type": "execute_result"
    }
   ],
   "source": [
    "landmarks_file.head()"
   ]
  },
  {
   "cell_type": "code",
   "execution_count": 25,
   "metadata": {},
   "outputs": [],
   "source": [
    "im = landmarks_file.values[0,:]\n",
    "im_path = im[0]\n",
    "points = im[1:]"
   ]
  },
  {
   "cell_type": "code",
   "execution_count": 36,
   "metadata": {},
   "outputs": [],
   "source": [
    "points = points.reshape(-1,2)"
   ]
  },
  {
   "cell_type": "code",
   "execution_count": 37,
   "metadata": {},
   "outputs": [
    {
     "data": {
      "text/plain": [
       "<matplotlib.collections.PathCollection at 0x7f2c6cc96b70>"
      ]
     },
     "execution_count": 37,
     "metadata": {},
     "output_type": "execute_result"
    },
    {
     "data": {
      "image/png": "[encoded data removed]",
      "text/plain": [
       "<matplotlib.figure.Figure at 0x7f2c6cd21748>"
      ]
     },
     "metadata": {
      "needs_background": "light"
     },
     "output_type": "display_data"
    }
   ],
   "source": [
    "img = io.imread(path/im_path)\n",
    "plt.imshow(img)\n",
    "plt.scatter(points[:,0], points[:,1], s=7)"
   ]
  },
  {
   "cell_type": "code",
   "execution_count": 31,
   "metadata": {},
   "outputs": [],
   "source": [
    "oh, ow = img.shape[:2]"
   ]
  },
  {
   "cell_type": "code",
   "execution_count": 42,
   "metadata": {},
   "outputs": [],
   "source": [
    "def rescale(img, points, size):\n",
    "    oh, ow = img.shape[:2]\n",
    "    nh, nw = size\n",
    "    img = transform.resize(img, (nh, nw))\n",
    "    points = points * [nw/ow, nh/oh]\n",
    "    return img, points"
   ]
  },
  {
   "cell_type": "code",
   "execution_count": null,
   "metadata": {},
   "outputs": [],
   "source": [
    "im, p = rescale(img, points, (150, 150))"
   ]
  },
  {
   "cell_type": "code",
   "execution_count": 44,
   "metadata": {},
   "outputs": [
    {
     "data": {
      "text/plain": [
       "(150, 150, 3)"
      ]
     },
     "execution_count": 44,
     "metadata": {},
     "output_type": "execute_result"
    }
   ],
   "source": [
    "im.shape"
   ]
  }
 ],
 "metadata": {
  "kernelspec": {
   "display_name": "Python 3",
   "language": "python",
   "name": "python3"
  },
  "language_info": {
   "codemirror_mode": {
    "name": "ipython",
    "version": 3
   },
   "file_extension": ".py",
   "mimetype": "text/x-python",
   "name": "python",
   "nbconvert_exporter": "python",
   "pygments_lexer": "ipython3",
   "version": "3.6.5"
  }
 },
 "nbformat": 4,
 "nbformat_minor": 2
}
